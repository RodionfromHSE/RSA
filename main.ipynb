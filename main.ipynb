{
 "cells": [
  {
   "cell_type": "code",
   "execution_count": 1,
   "metadata": {},
   "outputs": [],
   "source": [
    "%load_ext autoreload\n",
    "%autoreload 2"
   ]
  },
  {
   "cell_type": "code",
   "execution_count": 1,
   "metadata": {},
   "outputs": [],
   "source": [
    "from rsa import gen_keys, encrypt, decrypt, encrypt_str, decrypt_str"
   ]
  },
  {
   "attachments": {},
   "cell_type": "markdown",
   "metadata": {},
   "source": [
    "Let's start from something simple"
   ]
  },
  {
   "cell_type": "code",
   "execution_count": 2,
   "metadata": {},
   "outputs": [
    {
     "name": "stdout",
     "output_type": "stream",
     "text": [
      "Original message: Hello, world!\n",
      "Encrypted message: 19 62 4 4 45 99 98 37 45 49 4 100 110 \n",
      "Decrypted message: Hello, world!\n"
     ]
    }
   ],
   "source": [
    "def test_encrypt_decrypt(msg, keys):\n",
    "    encrypted = encrypt_str(msg, keys['public'])\n",
    "    decrypted = decrypt_str(encrypted, keys['private'])\n",
    "    print(f'Original message: {msg}')\n",
    "    print(f'Encrypted message: {encrypted}')\n",
    "    print(f'Decrypted message: {decrypted}')\n",
    "\n",
    "p, q = 11, 13\n",
    "keys = gen_keys(p, q)\n",
    "msg = 'Hello, world!'\n",
    "test_encrypt_decrypt(msg, keys)"
   ]
  },
  {
   "cell_type": "markdown",
   "metadata": {},
   "source": [
    "Now it will look a bit better:)"
   ]
  },
  {
   "cell_type": "code",
   "execution_count": 21,
   "metadata": {},
   "outputs": [
    {
     "name": "stdout",
     "output_type": "stream",
     "text": [
      "Original message: Hello, world!\n",
      "Encrypted message: 1934917632 10510100501 14693280768 14693280768 16850581551 164916224 33554432 23863536599 16850581551 19254145824 14693280768 10000000000 39135393 \n",
      "Decrypted message: Hello, world!\n"
     ]
    }
   ],
   "source": [
    "from Crypto.Util.number import getPrime\n",
    "p = getPrime(1024)\n",
    "q = getPrime(1024)\n",
    "keys = gen_keys(p, q)\n",
    "msg = 'Hello, world!'\n",
    "test_encrypt_decrypt(msg, keys)"
   ]
  }
 ],
 "metadata": {
  "kernelspec": {
   "display_name": "Python 3",
   "language": "python",
   "name": "python3"
  },
  "language_info": {
   "codemirror_mode": {
    "name": "ipython",
    "version": 3
   },
   "file_extension": ".py",
   "mimetype": "text/x-python",
   "name": "python",
   "nbconvert_exporter": "python",
   "pygments_lexer": "ipython3",
   "version": "3.11.2"
  },
  "orig_nbformat": 4
 },
 "nbformat": 4,
 "nbformat_minor": 2
}
